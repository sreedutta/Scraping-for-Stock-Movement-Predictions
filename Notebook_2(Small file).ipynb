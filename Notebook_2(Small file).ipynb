{
  "nbformat": 4,
  "nbformat_minor": 0,
  "metadata": {
    "colab": {
      "provenance": [],
      "authorship_tag": "ABX9TyM8voGRzmC+pQwIzubruVNp",
      "include_colab_link": true
    },
    "kernelspec": {
      "name": "python3",
      "display_name": "Python 3"
    },
    "language_info": {
      "name": "python"
    }
  },
  "cells": [
    {
      "cell_type": "markdown",
      "metadata": {
        "id": "view-in-github",
        "colab_type": "text"
      },
      "source": [
        "<a href=\"https://colab.research.google.com/github/Shrutakeerti/Scraping-for-Stock-Movement-Predictions/blob/main/Assignment2.ipynb\" target=\"_parent\"><img src=\"https://colab.research.google.com/assets/colab-badge.svg\" alt=\"Open In Colab\"/></a>"
      ]
    },
    {
      "cell_type": "code",
      "source": [
        "!pip install praw pandas nltk textblob scikit-learn matplotlib seaborn\n"
      ],
      "metadata": {
        "colab": {
          "base_uri": "https://localhost:8080/"
        },
        "id": "Tv37I0Njf-3C",
        "outputId": "138acabd-86aa-4361-f1ac-ac35d1782427"
      },
      "execution_count": 1,
      "outputs": [
        {
          "output_type": "stream",
          "name": "stdout",
          "text": [
            "Collecting praw\n",
            "  Downloading praw-7.7.1-py3-none-any.whl.metadata (9.8 kB)\n",
            "Requirement already satisfied: pandas in /usr/local/lib/python3.10/dist-packages (2.1.4)\n",
            "Requirement already satisfied: nltk in /usr/local/lib/python3.10/dist-packages (3.8.1)\n",
            "Requirement already satisfied: textblob in /usr/local/lib/python3.10/dist-packages (0.17.1)\n",
            "Requirement already satisfied: scikit-learn in /usr/local/lib/python3.10/dist-packages (1.3.2)\n",
            "Requirement already satisfied: matplotlib in /usr/local/lib/python3.10/dist-packages (3.7.1)\n",
            "Requirement already satisfied: seaborn in /usr/local/lib/python3.10/dist-packages (0.13.1)\n",
            "Collecting prawcore<3,>=2.1 (from praw)\n",
            "  Downloading prawcore-2.4.0-py3-none-any.whl.metadata (5.0 kB)\n",
            "Collecting update-checker>=0.18 (from praw)\n",
            "  Downloading update_checker-0.18.0-py3-none-any.whl.metadata (2.3 kB)\n",
            "Requirement already satisfied: websocket-client>=0.54.0 in /usr/local/lib/python3.10/dist-packages (from praw) (1.8.0)\n",
            "Requirement already satisfied: numpy<2,>=1.22.4 in /usr/local/lib/python3.10/dist-packages (from pandas) (1.26.4)\n",
            "Requirement already satisfied: python-dateutil>=2.8.2 in /usr/local/lib/python3.10/dist-packages (from pandas) (2.8.2)\n",
            "Requirement already satisfied: pytz>=2020.1 in /usr/local/lib/python3.10/dist-packages (from pandas) (2024.2)\n",
            "Requirement already satisfied: tzdata>=2022.1 in /usr/local/lib/python3.10/dist-packages (from pandas) (2024.1)\n",
            "Requirement already satisfied: click in /usr/local/lib/python3.10/dist-packages (from nltk) (8.1.7)\n",
            "Requirement already satisfied: joblib in /usr/local/lib/python3.10/dist-packages (from nltk) (1.4.2)\n",
            "Requirement already satisfied: regex>=2021.8.3 in /usr/local/lib/python3.10/dist-packages (from nltk) (2024.9.11)\n",
            "Requirement already satisfied: tqdm in /usr/local/lib/python3.10/dist-packages (from nltk) (4.66.5)\n",
            "Requirement already satisfied: scipy>=1.5.0 in /usr/local/lib/python3.10/dist-packages (from scikit-learn) (1.13.1)\n",
            "Requirement already satisfied: threadpoolctl>=2.0.0 in /usr/local/lib/python3.10/dist-packages (from scikit-learn) (3.5.0)\n",
            "Requirement already satisfied: contourpy>=1.0.1 in /usr/local/lib/python3.10/dist-packages (from matplotlib) (1.3.0)\n",
            "Requirement already satisfied: cycler>=0.10 in /usr/local/lib/python3.10/dist-packages (from matplotlib) (0.12.1)\n",
            "Requirement already satisfied: fonttools>=4.22.0 in /usr/local/lib/python3.10/dist-packages (from matplotlib) (4.53.1)\n",
            "Requirement already satisfied: kiwisolver>=1.0.1 in /usr/local/lib/python3.10/dist-packages (from matplotlib) (1.4.7)\n",
            "Requirement already satisfied: packaging>=20.0 in /usr/local/lib/python3.10/dist-packages (from matplotlib) (24.1)\n",
            "Requirement already satisfied: pillow>=6.2.0 in /usr/local/lib/python3.10/dist-packages (from matplotlib) (10.4.0)\n",
            "Requirement already satisfied: pyparsing>=2.3.1 in /usr/local/lib/python3.10/dist-packages (from matplotlib) (3.1.4)\n",
            "Requirement already satisfied: requests<3.0,>=2.6.0 in /usr/local/lib/python3.10/dist-packages (from prawcore<3,>=2.1->praw) (2.32.3)\n",
            "Requirement already satisfied: six>=1.5 in /usr/local/lib/python3.10/dist-packages (from python-dateutil>=2.8.2->pandas) (1.16.0)\n",
            "Requirement already satisfied: charset-normalizer<4,>=2 in /usr/local/lib/python3.10/dist-packages (from requests<3.0,>=2.6.0->prawcore<3,>=2.1->praw) (3.3.2)\n",
            "Requirement already satisfied: idna<4,>=2.5 in /usr/local/lib/python3.10/dist-packages (from requests<3.0,>=2.6.0->prawcore<3,>=2.1->praw) (3.10)\n",
            "Requirement already satisfied: urllib3<3,>=1.21.1 in /usr/local/lib/python3.10/dist-packages (from requests<3.0,>=2.6.0->prawcore<3,>=2.1->praw) (2.0.7)\n",
            "Requirement already satisfied: certifi>=2017.4.17 in /usr/local/lib/python3.10/dist-packages (from requests<3.0,>=2.6.0->prawcore<3,>=2.1->praw) (2024.8.30)\n",
            "Downloading praw-7.7.1-py3-none-any.whl (191 kB)\n",
            "\u001b[2K   \u001b[90m━━━━━━━━━━━━━━━━━━━━━━━━━━━━━━━━━━━━━━━━\u001b[0m \u001b[32m191.0/191.0 kB\u001b[0m \u001b[31m4.2 MB/s\u001b[0m eta \u001b[36m0:00:00\u001b[0m\n",
            "\u001b[?25hDownloading prawcore-2.4.0-py3-none-any.whl (17 kB)\n",
            "Downloading update_checker-0.18.0-py3-none-any.whl (7.0 kB)\n",
            "Installing collected packages: update-checker, prawcore, praw\n",
            "Successfully installed praw-7.7.1 prawcore-2.4.0 update-checker-0.18.0\n"
          ]
        }
      ]
    },
    {
      "cell_type": "code",
      "source": [
        "import praw\n",
        "import pandas as pd\n",
        "import nltk\n",
        "from textblob import TextBlob\n",
        "from sklearn.feature_extraction.text import CountVectorizer\n",
        "from sklearn.model_selection import train_test_split\n",
        "from sklearn.naive_bayes import MultinomialNB\n",
        "from sklearn.metrics import accuracy_score, classification_report\n",
        "import matplotlib.pyplot as plt\n",
        "import seaborn as sns\n",
        "\n",
        "import praw\n",
        "import pandas as pd\n",
        "\n",
        "# Set your Reddit API credentials\n",
        "REDDIT_CLIENT_ID = 'zBslG12V_uTtmH1K8ieYSQ'\n",
        "REDDIT_SECRET = 'd0IUvqDAK7Z1plYz0Vr4MBWHK2pgsg'\n",
        "REDDIT_USER_AGENT = 'TaeTaeBot:v1.0 (by /u/Equivalent_Let_8310)'\n",
        "\n",
        "# Create a Reddit instance\n",
        "reddit = praw.Reddit(\n",
        "    client_id=REDDIT_CLIENT_ID,\n",
        "    client_secret=REDDIT_SECRET,\n",
        "    user_agent=REDDIT_USER_AGENT\n",
        ")\n",
        "\n",
        "# Function to scrape Reddit data\n",
        "def scrape_reddit(subreddit_name, limit=100):\n",
        "    subreddit = reddit.subreddit(subreddit_name)\n",
        "    posts = []\n",
        "\n",
        "    for submission in subreddit.hot(limit=limit):\n",
        "        posts.append({\n",
        "            'title': submission.title,\n",
        "            'selftext': submission.selftext,\n",
        "            'score': submission.score,\n",
        "            'created_utc': submission.created_utc\n",
        "        })\n",
        "\n",
        "    return pd.DataFrame(posts)\n",
        "\n",
        "# Example: Scrape data from r/stocks\n",
        "df_reddit = scrape_reddit('stocks', limit=500)\n",
        "\n",
        "# Display the first few rows of the scraped data\n",
        "print(df_reddit.head())\n",
        "\n"
      ],
      "metadata": {
        "colab": {
          "base_uri": "https://localhost:8080/"
        },
        "id": "OpQarkGngE8X",
        "outputId": "2b273187-90c2-49c2-faa9-68224e81a384"
      },
      "execution_count": 2,
      "outputs": [
        {
          "output_type": "stream",
          "name": "stderr",
          "text": [
            "WARNING:praw:It appears that you are using PRAW in an asynchronous environment.\n",
            "It is strongly recommended to use Async PRAW: https://asyncpraw.readthedocs.io.\n",
            "See https://praw.readthedocs.io/en/latest/getting_started/multiple_instances.html#discord-bots-and-asynchronous-environments for more info.\n",
            "\n",
            "WARNING:praw:It appears that you are using PRAW in an asynchronous environment.\n",
            "It is strongly recommended to use Async PRAW: https://asyncpraw.readthedocs.io.\n",
            "See https://praw.readthedocs.io/en/latest/getting_started/multiple_instances.html#discord-bots-and-asynchronous-environments for more info.\n",
            "\n",
            "WARNING:praw:It appears that you are using PRAW in an asynchronous environment.\n",
            "It is strongly recommended to use Async PRAW: https://asyncpraw.readthedocs.io.\n",
            "See https://praw.readthedocs.io/en/latest/getting_started/multiple_instances.html#discord-bots-and-asynchronous-environments for more info.\n",
            "\n"
          ]
        },
        {
          "output_type": "stream",
          "name": "stdout",
          "text": [
            "                                               title  \\\n",
            "0  Rate My Portfolio - r/Stocks Quarterly Thread ...   \n",
            "1  /r/Stocks Weekend Discussion Saturday - Sep 21...   \n",
            "2  Asian Stocks Advance on China Stimulus Hopes: ...   \n",
            "3                    Divident Yield in Google Sheets   \n",
            "4           Why has apples equity been going down?\\n   \n",
            "\n",
            "                                            selftext  score   created_utc  \n",
            "0  Please use this thread to discuss your portfol...      5  1.725181e+09  \n",
            "1  This is the weekend edition of our stickied di...      9  1.726911e+09  \n",
            "2  >(Bloomberg) -- Asian stocks rose along with U...      8  1.727062e+09  \n",
            "3  Hi,\\n\\nI've tried a couple code snippets to ge...     15  1.727042e+09  \n",
            "4  I was looking at the balance sheet of apple in...     23  1.727027e+09  \n"
          ]
        }
      ]
    },
    {
      "cell_type": "code",
      "source": [
        "# Combine title and selftext for analysis\n",
        "df_reddit['text'] = df_reddit['title'] + ' ' + df_reddit['selftext']\n",
        "\n",
        "# Perform sentiment analysis\n",
        "def analyze_sentiment(text):\n",
        "    analysis = TextBlob(text)\n",
        "    return analysis.sentiment.polarity\n",
        "\n",
        "df_reddit['sentiment'] = df_reddit['text'].apply(analyze_sentiment)\n",
        "\n",
        "# Optional: Add a simple binary sentiment classification\n",
        "df_reddit['sentiment_class'] = df_reddit['sentiment'].apply(lambda x: 1 if x > 0 else 0)\n",
        "\n",
        "# Display first few rows\n",
        "df_reddit.head()\n"
      ],
      "metadata": {
        "colab": {
          "base_uri": "https://localhost:8080/",
          "height": 241
        },
        "id": "Zp98fsWKEzfq",
        "outputId": "be3d2f8d-c86e-48e6-c623-98a4fe3c8b6e"
      },
      "execution_count": 3,
      "outputs": [
        {
          "output_type": "execute_result",
          "data": {
            "text/plain": [
              "                                               title  \\\n",
              "0  Rate My Portfolio - r/Stocks Quarterly Thread ...   \n",
              "1  /r/Stocks Weekend Discussion Saturday - Sep 21...   \n",
              "2  Asian Stocks Advance on China Stimulus Hopes: ...   \n",
              "3                    Divident Yield in Google Sheets   \n",
              "4           Why has apples equity been going down?\\n   \n",
              "\n",
              "                                            selftext  score   created_utc  \\\n",
              "0  Please use this thread to discuss your portfol...      5  1.725181e+09   \n",
              "1  This is the weekend edition of our stickied di...      9  1.726911e+09   \n",
              "2  >(Bloomberg) -- Asian stocks rose along with U...      8  1.727062e+09   \n",
              "3  Hi,\\n\\nI've tried a couple code snippets to ge...     15  1.727042e+09   \n",
              "4  I was looking at the balance sheet of apple in...     23  1.727027e+09   \n",
              "\n",
              "                                                text  sentiment  \\\n",
              "0  Rate My Portfolio - r/Stocks Quarterly Thread ...   0.186026   \n",
              "1  /r/Stocks Weekend Discussion Saturday - Sep 21...  -0.050000   \n",
              "2  Asian Stocks Advance on China Stimulus Hopes: ...   0.134259   \n",
              "3  Divident Yield in Google Sheets Hi,\\n\\nI've tr...   0.200000   \n",
              "4  Why has apples equity been going down?\\n I was...   0.094797   \n",
              "\n",
              "   sentiment_class  \n",
              "0                1  \n",
              "1                0  \n",
              "2                1  \n",
              "3                1  \n",
              "4                1  "
            ],
            "text/html": [
              "\n",
              "  <div id=\"df-9b987ae4-b6e0-42a4-863a-6db0e69ce937\" class=\"colab-df-container\">\n",
              "    <div>\n",
              "<style scoped>\n",
              "    .dataframe tbody tr th:only-of-type {\n",
              "        vertical-align: middle;\n",
              "    }\n",
              "\n",
              "    .dataframe tbody tr th {\n",
              "        vertical-align: top;\n",
              "    }\n",
              "\n",
              "    .dataframe thead th {\n",
              "        text-align: right;\n",
              "    }\n",
              "</style>\n",
              "<table border=\"1\" class=\"dataframe\">\n",
              "  <thead>\n",
              "    <tr style=\"text-align: right;\">\n",
              "      <th></th>\n",
              "      <th>title</th>\n",
              "      <th>selftext</th>\n",
              "      <th>score</th>\n",
              "      <th>created_utc</th>\n",
              "      <th>text</th>\n",
              "      <th>sentiment</th>\n",
              "      <th>sentiment_class</th>\n",
              "    </tr>\n",
              "  </thead>\n",
              "  <tbody>\n",
              "    <tr>\n",
              "      <th>0</th>\n",
              "      <td>Rate My Portfolio - r/Stocks Quarterly Thread ...</td>\n",
              "      <td>Please use this thread to discuss your portfol...</td>\n",
              "      <td>5</td>\n",
              "      <td>1.725181e+09</td>\n",
              "      <td>Rate My Portfolio - r/Stocks Quarterly Thread ...</td>\n",
              "      <td>0.186026</td>\n",
              "      <td>1</td>\n",
              "    </tr>\n",
              "    <tr>\n",
              "      <th>1</th>\n",
              "      <td>/r/Stocks Weekend Discussion Saturday - Sep 21...</td>\n",
              "      <td>This is the weekend edition of our stickied di...</td>\n",
              "      <td>9</td>\n",
              "      <td>1.726911e+09</td>\n",
              "      <td>/r/Stocks Weekend Discussion Saturday - Sep 21...</td>\n",
              "      <td>-0.050000</td>\n",
              "      <td>0</td>\n",
              "    </tr>\n",
              "    <tr>\n",
              "      <th>2</th>\n",
              "      <td>Asian Stocks Advance on China Stimulus Hopes: ...</td>\n",
              "      <td>&gt;(Bloomberg) -- Asian stocks rose along with U...</td>\n",
              "      <td>8</td>\n",
              "      <td>1.727062e+09</td>\n",
              "      <td>Asian Stocks Advance on China Stimulus Hopes: ...</td>\n",
              "      <td>0.134259</td>\n",
              "      <td>1</td>\n",
              "    </tr>\n",
              "    <tr>\n",
              "      <th>3</th>\n",
              "      <td>Divident Yield in Google Sheets</td>\n",
              "      <td>Hi,\\n\\nI've tried a couple code snippets to ge...</td>\n",
              "      <td>15</td>\n",
              "      <td>1.727042e+09</td>\n",
              "      <td>Divident Yield in Google Sheets Hi,\\n\\nI've tr...</td>\n",
              "      <td>0.200000</td>\n",
              "      <td>1</td>\n",
              "    </tr>\n",
              "    <tr>\n",
              "      <th>4</th>\n",
              "      <td>Why has apples equity been going down?\\n</td>\n",
              "      <td>I was looking at the balance sheet of apple in...</td>\n",
              "      <td>23</td>\n",
              "      <td>1.727027e+09</td>\n",
              "      <td>Why has apples equity been going down?\\n I was...</td>\n",
              "      <td>0.094797</td>\n",
              "      <td>1</td>\n",
              "    </tr>\n",
              "  </tbody>\n",
              "</table>\n",
              "</div>\n",
              "    <div class=\"colab-df-buttons\">\n",
              "\n",
              "  <div class=\"colab-df-container\">\n",
              "    <button class=\"colab-df-convert\" onclick=\"convertToInteractive('df-9b987ae4-b6e0-42a4-863a-6db0e69ce937')\"\n",
              "            title=\"Convert this dataframe to an interactive table.\"\n",
              "            style=\"display:none;\">\n",
              "\n",
              "  <svg xmlns=\"http://www.w3.org/2000/svg\" height=\"24px\" viewBox=\"0 -960 960 960\">\n",
              "    <path d=\"M120-120v-720h720v720H120Zm60-500h600v-160H180v160Zm220 220h160v-160H400v160Zm0 220h160v-160H400v160ZM180-400h160v-160H180v160Zm440 0h160v-160H620v160ZM180-180h160v-160H180v160Zm440 0h160v-160H620v160Z\"/>\n",
              "  </svg>\n",
              "    </button>\n",
              "\n",
              "  <style>\n",
              "    .colab-df-container {\n",
              "      display:flex;\n",
              "      gap: 12px;\n",
              "    }\n",
              "\n",
              "    .colab-df-convert {\n",
              "      background-color: #E8F0FE;\n",
              "      border: none;\n",
              "      border-radius: 50%;\n",
              "      cursor: pointer;\n",
              "      display: none;\n",
              "      fill: #1967D2;\n",
              "      height: 32px;\n",
              "      padding: 0 0 0 0;\n",
              "      width: 32px;\n",
              "    }\n",
              "\n",
              "    .colab-df-convert:hover {\n",
              "      background-color: #E2EBFA;\n",
              "      box-shadow: 0px 1px 2px rgba(60, 64, 67, 0.3), 0px 1px 3px 1px rgba(60, 64, 67, 0.15);\n",
              "      fill: #174EA6;\n",
              "    }\n",
              "\n",
              "    .colab-df-buttons div {\n",
              "      margin-bottom: 4px;\n",
              "    }\n",
              "\n",
              "    [theme=dark] .colab-df-convert {\n",
              "      background-color: #3B4455;\n",
              "      fill: #D2E3FC;\n",
              "    }\n",
              "\n",
              "    [theme=dark] .colab-df-convert:hover {\n",
              "      background-color: #434B5C;\n",
              "      box-shadow: 0px 1px 3px 1px rgba(0, 0, 0, 0.15);\n",
              "      filter: drop-shadow(0px 1px 2px rgba(0, 0, 0, 0.3));\n",
              "      fill: #FFFFFF;\n",
              "    }\n",
              "  </style>\n",
              "\n",
              "    <script>\n",
              "      const buttonEl =\n",
              "        document.querySelector('#df-9b987ae4-b6e0-42a4-863a-6db0e69ce937 button.colab-df-convert');\n",
              "      buttonEl.style.display =\n",
              "        google.colab.kernel.accessAllowed ? 'block' : 'none';\n",
              "\n",
              "      async function convertToInteractive(key) {\n",
              "        const element = document.querySelector('#df-9b987ae4-b6e0-42a4-863a-6db0e69ce937');\n",
              "        const dataTable =\n",
              "          await google.colab.kernel.invokeFunction('convertToInteractive',\n",
              "                                                    [key], {});\n",
              "        if (!dataTable) return;\n",
              "\n",
              "        const docLinkHtml = 'Like what you see? Visit the ' +\n",
              "          '<a target=\"_blank\" href=https://colab.research.google.com/notebooks/data_table.ipynb>data table notebook</a>'\n",
              "          + ' to learn more about interactive tables.';\n",
              "        element.innerHTML = '';\n",
              "        dataTable['output_type'] = 'display_data';\n",
              "        await google.colab.output.renderOutput(dataTable, element);\n",
              "        const docLink = document.createElement('div');\n",
              "        docLink.innerHTML = docLinkHtml;\n",
              "        element.appendChild(docLink);\n",
              "      }\n",
              "    </script>\n",
              "  </div>\n",
              "\n",
              "\n",
              "<div id=\"df-2f47320f-29e7-4007-8f35-8f5b238a3984\">\n",
              "  <button class=\"colab-df-quickchart\" onclick=\"quickchart('df-2f47320f-29e7-4007-8f35-8f5b238a3984')\"\n",
              "            title=\"Suggest charts\"\n",
              "            style=\"display:none;\">\n",
              "\n",
              "<svg xmlns=\"http://www.w3.org/2000/svg\" height=\"24px\"viewBox=\"0 0 24 24\"\n",
              "     width=\"24px\">\n",
              "    <g>\n",
              "        <path d=\"M19 3H5c-1.1 0-2 .9-2 2v14c0 1.1.9 2 2 2h14c1.1 0 2-.9 2-2V5c0-1.1-.9-2-2-2zM9 17H7v-7h2v7zm4 0h-2V7h2v10zm4 0h-2v-4h2v4z\"/>\n",
              "    </g>\n",
              "</svg>\n",
              "  </button>\n",
              "\n",
              "<style>\n",
              "  .colab-df-quickchart {\n",
              "      --bg-color: #E8F0FE;\n",
              "      --fill-color: #1967D2;\n",
              "      --hover-bg-color: #E2EBFA;\n",
              "      --hover-fill-color: #174EA6;\n",
              "      --disabled-fill-color: #AAA;\n",
              "      --disabled-bg-color: #DDD;\n",
              "  }\n",
              "\n",
              "  [theme=dark] .colab-df-quickchart {\n",
              "      --bg-color: #3B4455;\n",
              "      --fill-color: #D2E3FC;\n",
              "      --hover-bg-color: #434B5C;\n",
              "      --hover-fill-color: #FFFFFF;\n",
              "      --disabled-bg-color: #3B4455;\n",
              "      --disabled-fill-color: #666;\n",
              "  }\n",
              "\n",
              "  .colab-df-quickchart {\n",
              "    background-color: var(--bg-color);\n",
              "    border: none;\n",
              "    border-radius: 50%;\n",
              "    cursor: pointer;\n",
              "    display: none;\n",
              "    fill: var(--fill-color);\n",
              "    height: 32px;\n",
              "    padding: 0;\n",
              "    width: 32px;\n",
              "  }\n",
              "\n",
              "  .colab-df-quickchart:hover {\n",
              "    background-color: var(--hover-bg-color);\n",
              "    box-shadow: 0 1px 2px rgba(60, 64, 67, 0.3), 0 1px 3px 1px rgba(60, 64, 67, 0.15);\n",
              "    fill: var(--button-hover-fill-color);\n",
              "  }\n",
              "\n",
              "  .colab-df-quickchart-complete:disabled,\n",
              "  .colab-df-quickchart-complete:disabled:hover {\n",
              "    background-color: var(--disabled-bg-color);\n",
              "    fill: var(--disabled-fill-color);\n",
              "    box-shadow: none;\n",
              "  }\n",
              "\n",
              "  .colab-df-spinner {\n",
              "    border: 2px solid var(--fill-color);\n",
              "    border-color: transparent;\n",
              "    border-bottom-color: var(--fill-color);\n",
              "    animation:\n",
              "      spin 1s steps(1) infinite;\n",
              "  }\n",
              "\n",
              "  @keyframes spin {\n",
              "    0% {\n",
              "      border-color: transparent;\n",
              "      border-bottom-color: var(--fill-color);\n",
              "      border-left-color: var(--fill-color);\n",
              "    }\n",
              "    20% {\n",
              "      border-color: transparent;\n",
              "      border-left-color: var(--fill-color);\n",
              "      border-top-color: var(--fill-color);\n",
              "    }\n",
              "    30% {\n",
              "      border-color: transparent;\n",
              "      border-left-color: var(--fill-color);\n",
              "      border-top-color: var(--fill-color);\n",
              "      border-right-color: var(--fill-color);\n",
              "    }\n",
              "    40% {\n",
              "      border-color: transparent;\n",
              "      border-right-color: var(--fill-color);\n",
              "      border-top-color: var(--fill-color);\n",
              "    }\n",
              "    60% {\n",
              "      border-color: transparent;\n",
              "      border-right-color: var(--fill-color);\n",
              "    }\n",
              "    80% {\n",
              "      border-color: transparent;\n",
              "      border-right-color: var(--fill-color);\n",
              "      border-bottom-color: var(--fill-color);\n",
              "    }\n",
              "    90% {\n",
              "      border-color: transparent;\n",
              "      border-bottom-color: var(--fill-color);\n",
              "    }\n",
              "  }\n",
              "</style>\n",
              "\n",
              "  <script>\n",
              "    async function quickchart(key) {\n",
              "      const quickchartButtonEl =\n",
              "        document.querySelector('#' + key + ' button');\n",
              "      quickchartButtonEl.disabled = true;  // To prevent multiple clicks.\n",
              "      quickchartButtonEl.classList.add('colab-df-spinner');\n",
              "      try {\n",
              "        const charts = await google.colab.kernel.invokeFunction(\n",
              "            'suggestCharts', [key], {});\n",
              "      } catch (error) {\n",
              "        console.error('Error during call to suggestCharts:', error);\n",
              "      }\n",
              "      quickchartButtonEl.classList.remove('colab-df-spinner');\n",
              "      quickchartButtonEl.classList.add('colab-df-quickchart-complete');\n",
              "    }\n",
              "    (() => {\n",
              "      let quickchartButtonEl =\n",
              "        document.querySelector('#df-2f47320f-29e7-4007-8f35-8f5b238a3984 button');\n",
              "      quickchartButtonEl.style.display =\n",
              "        google.colab.kernel.accessAllowed ? 'block' : 'none';\n",
              "    })();\n",
              "  </script>\n",
              "</div>\n",
              "\n",
              "    </div>\n",
              "  </div>\n"
            ],
            "application/vnd.google.colaboratory.intrinsic+json": {
              "type": "dataframe",
              "variable_name": "df_reddit",
              "summary": "{\n  \"name\": \"df_reddit\",\n  \"rows\": 275,\n  \"fields\": [\n    {\n      \"column\": \"title\",\n      \"properties\": {\n        \"dtype\": \"string\",\n        \"num_unique_values\": 275,\n        \"samples\": [\n          \"BellRing brands stock analysis (BRBR) \",\n          \"AI in Control?\",\n          \"How does one learn about finance? How does one become the next Icahn?\"\n        ],\n        \"semantic_type\": \"\",\n        \"description\": \"\"\n      }\n    },\n    {\n      \"column\": \"selftext\",\n      \"properties\": {\n        \"dtype\": \"string\",\n        \"num_unique_values\": 261,\n        \"samples\": [\n          \"BellRing brands stock analysis (BRBR) \\n\\n(I dont hold any shares of BRBR)\\n\\nBellring Brands sells protein ready to drink and powder supplements. The supplement market has been growing for years and especially since protein based products entered the big supermarkets, the market has been growing even stronger also for the average consumer. \\n\\n\\n\\nBellring has benefited greatly from this trend and in the last 5 years revenue has doubled  \\n\\n\\n\\nRoic continues to grow and is currently at an all time high of 40% \\n\\n\\n\\nThis year is also their first year buying back shares so far they have bought back 1.6% of their shares \\n\\n\\n\\nThat sounds good for bellring but where is their moat what is protecting their profits?  \\n\\n\\n\\nFirstly their CEO has been ceo for 5 years but before that she was not unknown Darcy Horn Davenport has been with the company for 13 years and has worked her way up to ceo and so far she is delivering \\n\\n\\n\\nOne of her strengths is said to be innovation, so in recent years they have established relationships with manufacturers all over the US to have the capacity to bring out more and more new products. \\n\\n\\n\\nThirdly, marketing their brands their marketing strategy consists of three pillars 1. highlighting the brand and making the ingredients clear and what they bring to athletes 2. licensing partnerships with larger companies such as Dunkin and 3. expanding their direct advertising partners such as influenza and sports teams \\n\\n\\n\\nP/FCF is at 30 \\n\\n\\n\\nAnd I don't hold any shares and don't plan to in the future but what do you think about the stock would you buy it? \",\n          \"Sept 10 (Reuters) - Boeing (BA.N), opens new tab said on Tuesday it delivered 40 commercial jets in August, up five from the same month in 2023 when it struggled with a manufacturing defect on its 737 MAX, as the U.S. planemaker eyes higher output under new CEO Kelly Ortberg.\\n\\nBoeing has pledged to boost production of its strongest selling jet, the MAX, to 38 per month by year's end.\\n\\nBut the planemaker faces obstacles such as a possible strike as early as Friday by more than 32,000 Seattle-area and Portland factory workers who vote on a new deal Sept. 12.\\n\\nThe U.S. planemaker is operating a slower assembly line since a Jan. 5 in-flight blowout, opens new tab of a door plug on a 737 MAX 9 jet that heightened regulatory scrutiny.\\n\\nBoeing handed over 32 MAX jets to customers last month, including nine deliveries to customers in China, the most since December 2019.\\n\\nBoeing delivered 43 commercial jets in July, including 31 MAX jets.\\n\\nInvestors closely watch delivery numbers, as airplane makers receive the majority of payment for an aircraft when it is transferred to a customer.\\n\\nAfter adjustments to reflect the backlog, Boeing reported adjusted net orders for the month of 24.\\n\\nThat brought Boeing's gross order total so far this year through August 31 to 250. After removing cancellations and conversions, Boeing posted a net total of 207 orders since the start of 2024.\\n\\nFollowing further accounting adjustments, Boeing reported adjusted net orders of 122 airplanes so far this year.\\n\\nYear to date through August 31, Boeing delivered 258 airplanes, including 198 MAX jets.\\n\\nEuropean rival Airbus (AIR.PA), opens new tab said last week it had delivered 47 aircraft in August, down from 77 in July, to reach 447 so far this year.\\n\\nhttps://www.reuters.com/business/aerospace-defense/boeing-delivers-40-jets-august-up-5-year-ago-2024-09-10/\",\n          \"Its not like AI hasn't been around for years now. It's also not like Nvidia just released CUDA and graphic cards capable of doing AI work. Its also not like Machine Learning is new.\\n\\n* Machine Learning has been used in scientific research for a long time now (atleast in Physics/Astronomy).\\n* Look at Cyberpunk video game. It released in 2020 and started development in 2016. It used AI to lip-sync character conversations into 10 languages. This was back in 2016-2020.\\n* GPT-1,2,3 was released in 2018/19/20. Here's a part from wiki about LLM - \\\"Although decoder-only GPT-1 was introduced in 2018, it was GPT-2 in 2019 that caught widespread attention because OpenAI at first deemed it too powerful to release publicly, out of fear of malicious use.\\\".\\n\\nLooking at that Sam Altman/Microsoft etc didn't think they should pour trillions into it or just buy all Nvidia chips? Nvidia earnings actually went down in 2019 lol.\\n\\nAll these companies knew about it years before. So what changed? Is it just that ChatGPT became public and people realised what it could do? or is there a more technical reason that justifies this?\\n\\nI looked at dot-com bubble. That was spurred by creation of public Web which became accessible in 1993 - so naturally only after 1993 could people even imagine websites etc and then there were new startups blah blah. Something, that couldn't have been anticipated, actually changed to cause the hype and new funding.\\n\\nBut this time around it seems to me like nothing fundamentally changed. Did companies/investors just overlook use of AI until 2022? Then looking at ChatGPT suddenly realised they were missing out on a trillion dollar industry that will revolutionize human lives? I am really confused about what happened. So please ELI5.\\n\\nEdit - I will summarize what people are saying in comments and share this tweet someone commented- [https://x.com/buccocapital/status/1828407633541296603](https://x.com/buccocapital/status/1828407633541296603)\\n\\nMost important part is about scaling laws and emergent properties. Essentially - AI is showing unexpectedly \\\"intelligent\\\" properties at higher compute powers (emergent properties) and these companies now believe that this will scale at even higher compute powers. No one know what will happen. It might happen that the emergent properties was a one time thing and AI may never get more intelligent or it will continue and we get a \\\"Digital God\\\" (according to the tweet).\\n\\nSo something did change in last couple of years, and the reason no one invested before was because no one saw it coming and it was an emergent property.\"\n        ],\n        \"semantic_type\": \"\",\n        \"description\": \"\"\n      }\n    },\n    {\n      \"column\": \"score\",\n      \"properties\": {\n        \"dtype\": \"number\",\n        \"std\": 281,\n        \"min\": 0,\n        \"max\": 2405,\n        \"num_unique_values\": 131,\n        \"samples\": [\n          14,\n          374,\n          10\n        ],\n        \"semantic_type\": \"\",\n        \"description\": \"\"\n      }\n    },\n    {\n      \"column\": \"created_utc\",\n      \"properties\": {\n        \"dtype\": \"number\",\n        \"std\": 524666.4386543506,\n        \"min\": 1725181221.0,\n        \"max\": 1727062478.0,\n        \"num_unique_values\": 274,\n        \"samples\": [\n          1726844064.0,\n          1725998532.0,\n          1725798896.0\n        ],\n        \"semantic_type\": \"\",\n        \"description\": \"\"\n      }\n    },\n    {\n      \"column\": \"text\",\n      \"properties\": {\n        \"dtype\": \"string\",\n        \"num_unique_values\": 275,\n        \"samples\": [\n          \"BellRing brands stock analysis (BRBR)  BellRing brands stock analysis (BRBR) \\n\\n(I dont hold any shares of BRBR)\\n\\nBellring Brands sells protein ready to drink and powder supplements. The supplement market has been growing for years and especially since protein based products entered the big supermarkets, the market has been growing even stronger also for the average consumer. \\n\\n\\n\\nBellring has benefited greatly from this trend and in the last 5 years revenue has doubled  \\n\\n\\n\\nRoic continues to grow and is currently at an all time high of 40% \\n\\n\\n\\nThis year is also their first year buying back shares so far they have bought back 1.6% of their shares \\n\\n\\n\\nThat sounds good for bellring but where is their moat what is protecting their profits?  \\n\\n\\n\\nFirstly their CEO has been ceo for 5 years but before that she was not unknown Darcy Horn Davenport has been with the company for 13 years and has worked her way up to ceo and so far she is delivering \\n\\n\\n\\nOne of her strengths is said to be innovation, so in recent years they have established relationships with manufacturers all over the US to have the capacity to bring out more and more new products. \\n\\n\\n\\nThirdly, marketing their brands their marketing strategy consists of three pillars 1. highlighting the brand and making the ingredients clear and what they bring to athletes 2. licensing partnerships with larger companies such as Dunkin and 3. expanding their direct advertising partners such as influenza and sports teams \\n\\n\\n\\nP/FCF is at 30 \\n\\n\\n\\nAnd I don't hold any shares and don't plan to in the future but what do you think about the stock would you buy it? \",\n          \"AI in Control? I am new to investing, but have been paying a lot of attention to the market and my investments since the beginning of this year. A combination of events has caused me to wonder at some things and I was curious if I am on target or off target in my thinking.\\n\\nI have been paying attention also to AI and I\\u2019m thinking about the time that it became better at the game Go than humans. One of the elements of that situation that has stuck out in my mind is that the machines were reported to play go very differently than human competitors to a degree that the humans couldn\\u2019t understand, at least initially, the strategy.\\n\\nIs it possible that there is enough control of enough money in the market by AI that the AI systems are now playing the market like they played Go? That could explain what, to me, looks like strange and unpredictable movement in the market. It is conceivable, for me at least, that the machines, if optimized a certain way or focused on certain outcomes, could create movements in the market that produced greater wealth for those employing them by, triggering sell off\\u2019s after selling high and then buying back in lower or many more things that I can\\u2019t even imagine.\\n\\nI\\u2019m not making a point, I am asking questions\\ud83d\\ude0e\",\n          \"How does one learn about finance? How does one become the next Icahn? Title says it all. I\\u2019m 19. Might not be the smartest person in the world but I have pretty decent determination and a crazy competitive streak. I thought I wanted to be an attorney but I realized I might want to go big with my career. I go to a school with the type of connections that could get me into the industry but I realize that I know nothing about the work. Beyond reading Security Analysis, where do I begin? How do I learn?\\n\\nEdit: the comments all contradict each other \\ud83d\\ude2d\\ud83d\\ude2d\"\n        ],\n        \"semantic_type\": \"\",\n        \"description\": \"\"\n      }\n    },\n    {\n      \"column\": \"sentiment\",\n      \"properties\": {\n        \"dtype\": \"number\",\n        \"std\": 0.1154231934833797,\n        \"min\": -0.38888888888888895,\n        \"max\": 0.7999999999999999,\n        \"num_unique_values\": 256,\n        \"samples\": [\n          0.01544642857142857,\n          -0.011416361416361412,\n          -0.06666666666666667\n        ],\n        \"semantic_type\": \"\",\n        \"description\": \"\"\n      }\n    },\n    {\n      \"column\": \"sentiment_class\",\n      \"properties\": {\n        \"dtype\": \"number\",\n        \"std\": 0,\n        \"min\": 0,\n        \"max\": 1,\n        \"num_unique_values\": 2,\n        \"samples\": [\n          0,\n          1\n        ],\n        \"semantic_type\": \"\",\n        \"description\": \"\"\n      }\n    }\n  ]\n}"
            }
          },
          "metadata": {},
          "execution_count": 3
        }
      ]
    },
    {
      "cell_type": "code",
      "source": [
        "# Feature extraction\n",
        "vectorizer = CountVectorizer(stop_words='english')\n",
        "X = vectorizer.fit_transform(df_reddit['text'])\n",
        "y = df_reddit['sentiment_class']\n",
        "\n",
        "# Split data into training and testing sets\n",
        "X_train, X_test, y_train, y_test = train_test_split(X, y, test_size=0.3, random_state=42)\n"
      ],
      "metadata": {
        "id": "3j-5H38UFMJq"
      },
      "execution_count": 4,
      "outputs": []
    },
    {
      "cell_type": "code",
      "source": [
        "# Initialize and train the model\n",
        "model = MultinomialNB()\n",
        "model.fit(X_train, y_train)\n",
        "\n",
        "# Make predictions\n",
        "y_pred = model.predict(X_test)\n",
        "\n",
        "# Evaluate the model\n",
        "print(\"Accuracy:\", accuracy_score(y_test, y_pred))\n",
        "print(\"\\nClassification Report:\\n\", classification_report(y_test, y_pred))\n"
      ],
      "metadata": {
        "colab": {
          "base_uri": "https://localhost:8080/"
        },
        "id": "RV_iIr3WFQvB",
        "outputId": "ba106c47-8127-4abd-d8e1-51e57bb9bfac"
      },
      "execution_count": 5,
      "outputs": [
        {
          "output_type": "stream",
          "name": "stdout",
          "text": [
            "Accuracy: 0.7228915662650602\n",
            "\n",
            "Classification Report:\n",
            "               precision    recall  f1-score   support\n",
            "\n",
            "           0       0.25      0.38      0.30        13\n",
            "           1       0.87      0.79      0.83        70\n",
            "\n",
            "    accuracy                           0.72        83\n",
            "   macro avg       0.56      0.59      0.57        83\n",
            "weighted avg       0.78      0.72      0.74        83\n",
            "\n"
          ]
        }
      ]
    },
    {
      "cell_type": "code",
      "source": [
        "# Initialize and train the model\n",
        "model = MultinomialNB()\n",
        "model.fit(X_train, y_train)\n",
        "\n",
        "# Make predictions\n",
        "y_pred = model.predict(X_test)\n",
        "\n",
        "# Evaluate the model\n",
        "print(\"Accuracy:\", accuracy_score(y_test, y_pred))\n",
        "print(\"\\nClassification Report:\\n\", classification_report(y_test, y_pred))\n"
      ],
      "metadata": {
        "colab": {
          "base_uri": "https://localhost:8080/"
        },
        "id": "Cw-JsX8CFVX6",
        "outputId": "44211fe6-65ae-4e41-f978-cc25f140c0f1"
      },
      "execution_count": 6,
      "outputs": [
        {
          "output_type": "stream",
          "name": "stdout",
          "text": [
            "Accuracy: 0.7228915662650602\n",
            "\n",
            "Classification Report:\n",
            "               precision    recall  f1-score   support\n",
            "\n",
            "           0       0.25      0.38      0.30        13\n",
            "           1       0.87      0.79      0.83        70\n",
            "\n",
            "    accuracy                           0.72        83\n",
            "   macro avg       0.56      0.59      0.57        83\n",
            "weighted avg       0.78      0.72      0.74        83\n",
            "\n"
          ]
        }
      ]
    },
    {
      "cell_type": "code",
      "source": [
        "# Plot confusion matrix\n",
        "from sklearn.metrics import confusion_matrix\n",
        "import seaborn as sns\n",
        "\n",
        "conf_matrix = confusion_matrix(y_test, y_pred)\n",
        "plt.figure(figsize=(8, 6))\n",
        "sns.heatmap(conf_matrix, annot=True, fmt='d', cmap='Blues',\n",
        "            xticklabels=['Negative', 'Positive'],\n",
        "            yticklabels=['Negative', 'Positive'])\n",
        "plt.xlabel('Predicted')\n",
        "plt.ylabel('True')\n",
        "plt.title('Confusion Matrix')\n",
        "plt.show()\n"
      ],
      "metadata": {
        "colab": {
          "base_uri": "https://localhost:8080/",
          "height": 564
        },
        "id": "yJ1H3PlhIKMp",
        "outputId": "ea71b4f0-95d5-4768-e940-fb8d68fa3ff3"
      },
      "execution_count": 7,
      "outputs": [
        {
          "output_type": "display_data",
          "data": {
            "text/plain": [
              "<Figure size 800x600 with 2 Axes>"
            ],
            "image/png": "[encoded data removed]"
          },
          "metadata": {}
        }
      ]
    },
    {
      "cell_type": "code",
      "source": [
        "from sklearn.feature_extraction.text import TfidfVectorizer\n",
        "from nltk.corpus import stopwords\n",
        "import re\n",
        "from nltk.stem import WordNetLemmatizer\n",
        "\n",
        "nltk.download('stopwords')\n",
        "nltk.download('wordnet')\n",
        "\n",
        "# Text preprocessing function\n",
        "def preprocess_text(text):\n",
        "    # Remove special characters\n",
        "    text = re.sub(r'\\W', ' ', text)\n",
        "\n",
        "    # Lowercase text\n",
        "    text = text.lower()\n",
        "\n",
        "    # Remove single characters\n",
        "    text = re.sub(r'\\s+[a-zA-Z]\\s+', ' ', text)\n",
        "\n",
        "    # Remove multiple spaces\n",
        "    text = re.sub(r'\\s+', ' ', text)\n",
        "\n",
        "    # Lemmatize words\n",
        "    lemmatizer = WordNetLemmatizer()\n",
        "    text = ' '.join([lemmatizer.lemmatize(word) for word in text.split() if word not in stopwords.words('english')])\n",
        "\n",
        "    return text\n",
        "\n",
        "# Apply text preprocessing\n",
        "df_reddit['cleaned_text'] = df_reddit['text'].apply(preprocess_text)\n",
        "\n",
        "# Use TF-IDF for feature extraction\n",
        "tfidf = TfidfVectorizer(max_features=5000)\n",
        "X = tfidf.fit_transform(df_reddit['cleaned_text'])\n",
        "y = df_reddit['sentiment_class']\n",
        "\n",
        "# Split data\n",
        "X_train, X_test, y_train, y_test = train_test_split(X, y, test_size=0.3, random_state=42)\n"
      ],
      "metadata": {
        "colab": {
          "base_uri": "https://localhost:8080/"
        },
        "id": "JDi8CrLQIQ78",
        "outputId": "90ccc9b2-1f0d-49b8-973d-2e3ad9735bef"
      },
      "execution_count": 8,
      "outputs": [
        {
          "output_type": "stream",
          "name": "stderr",
          "text": [
            "[nltk_data] Downloading package stopwords to /root/nltk_data...\n",
            "[nltk_data]   Unzipping corpora/stopwords.zip.\n",
            "[nltk_data] Downloading package wordnet to /root/nltk_data...\n"
          ]
        }
      ]
    },
    {
      "cell_type": "code",
      "source": [
        "from sklearn.linear_model import LogisticRegression\n",
        "from sklearn.model_selection import GridSearchCV\n",
        "\n",
        "# Initialize Logistic Regression model\n",
        "log_reg = LogisticRegression()\n",
        "\n",
        "# Tune hyperparameters with GridSearchCV\n",
        "params = {\n",
        "    'C': [0.01, 0.1, 1, 10],\n",
        "    'penalty': ['l2', 'none'],\n",
        "    'solver': ['lbfgs', 'liblinear']\n",
        "}\n",
        "grid_search = GridSearchCV(log_reg, param_grid=params, cv=5, n_jobs=-1, verbose=1)\n",
        "grid_search.fit(X_train, y_train)\n",
        "\n",
        "# Best model\n",
        "best_log_reg = grid_search.best_estimator_\n",
        "\n",
        "# Train the model\n",
        "best_log_reg.fit(X_train, y_train)\n",
        "\n",
        "# Make predictions\n",
        "y_pred = best_log_reg.predict(X_test)\n",
        "\n",
        "# Evaluate the model\n",
        "print(\"Accuracy:\", accuracy_score(y_test, y_pred))\n",
        "print(\"\\nClassification Report:\\n\", classification_report(y_test, y_pred))\n"
      ],
      "metadata": {
        "colab": {
          "base_uri": "https://localhost:8080/"
        },
        "id": "MqGSqqSXJ99M",
        "outputId": "24497e1b-a58a-4da3-8571-b95748e97b99"
      },
      "execution_count": 9,
      "outputs": [
        {
          "output_type": "stream",
          "name": "stdout",
          "text": [
            "Fitting 5 folds for each of 16 candidates, totalling 80 fits\n",
            "Accuracy: 0.891566265060241\n",
            "\n",
            "Classification Report:\n",
            "               precision    recall  f1-score   support\n",
            "\n",
            "           0       1.00      0.31      0.47        13\n",
            "           1       0.89      1.00      0.94        70\n",
            "\n",
            "    accuracy                           0.89        83\n",
            "   macro avg       0.94      0.65      0.71        83\n",
            "weighted avg       0.90      0.89      0.87        83\n",
            "\n"
          ]
        },
        {
          "output_type": "stream",
          "name": "stderr",
          "text": [
            "/usr/local/lib/python3.10/dist-packages/sklearn/model_selection/_validation.py:425: FitFailedWarning: \n",
            "20 fits failed out of a total of 80.\n",
            "The score on these train-test partitions for these parameters will be set to nan.\n",
            "If these failures are not expected, you can try to debug them by setting error_score='raise'.\n",
            "\n",
            "Below are more details about the failures:\n",
            "--------------------------------------------------------------------------------\n",
            "20 fits failed with the following error:\n",
            "Traceback (most recent call last):\n",
            "  File \"/usr/local/lib/python3.10/dist-packages/sklearn/model_selection/_validation.py\", line 729, in _fit_and_score\n",
            "    estimator.fit(X_train, y_train, **fit_params)\n",
            "  File \"/usr/local/lib/python3.10/dist-packages/sklearn/base.py\", line 1152, in wrapper\n",
            "    return fit_method(estimator, *args, **kwargs)\n",
            "  File \"/usr/local/lib/python3.10/dist-packages/sklearn/linear_model/_logistic.py\", line 1169, in fit\n",
            "    solver = _check_solver(self.solver, self.penalty, self.dual)\n",
            "  File \"/usr/local/lib/python3.10/dist-packages/sklearn/linear_model/_logistic.py\", line 73, in _check_solver\n",
            "    raise ValueError(\"penalty='none' is not supported for the liblinear solver\")\n",
            "ValueError: penalty='none' is not supported for the liblinear solver\n",
            "\n",
            "  warnings.warn(some_fits_failed_message, FitFailedWarning)\n",
            "/usr/local/lib/python3.10/dist-packages/sklearn/model_selection/_search.py:979: UserWarning: One or more of the test scores are non-finite: [0.77611336 0.77611336 0.8022942         nan 0.77611336 0.77611336\n",
            " 0.8022942         nan 0.81255061 0.81255061 0.8022942         nan\n",
            " 0.82820513 0.82820513 0.8022942         nan]\n",
            "  warnings.warn(\n"
          ]
        }
      ]
    },
    {
      "cell_type": "code",
      "source": [
        "# Update the TF-IDF vectorizer to include bigrams and trigrams\n",
        "tfidf = TfidfVectorizer(max_features=5000, ngram_range=(1, 3))\n",
        "X = tfidf.fit_transform(df_reddit['cleaned_text'])\n"
      ],
      "metadata": {
        "id": "paG3hjndKEYI"
      },
      "execution_count": 10,
      "outputs": []
    },
    {
      "cell_type": "code",
      "source": [
        "df_reddit['post_length'] = df_reddit['text'].apply(lambda x: len(x.split()))\n"
      ],
      "metadata": {
        "id": "pS8N08nTFqF1"
      },
      "execution_count": 11,
      "outputs": []
    },
    {
      "cell_type": "code",
      "source": [
        "from sklearn.ensemble import RandomForestClassifier\n",
        "\n",
        "rf_model = RandomForestClassifier(n_estimators=100)\n",
        "rf_model.fit(X_train, y_train)\n",
        "y_pred_rf = rf_model.predict(X_test)\n",
        "\n",
        "print(\"Accuracy:\", accuracy_score(y_test, y_pred_rf))\n",
        "print(\"\\nClassification Report:\\n\", classification_report(y_test, y_pred_rf))\n"
      ],
      "metadata": {
        "colab": {
          "base_uri": "https://localhost:8080/"
        },
        "id": "s-anMyfqFtfW",
        "outputId": "c0cd3edf-6211-40de-d272-026fa5cc3349"
      },
      "execution_count": 12,
      "outputs": [
        {
          "output_type": "stream",
          "name": "stdout",
          "text": [
            "Accuracy: 0.891566265060241\n",
            "\n",
            "Classification Report:\n",
            "               precision    recall  f1-score   support\n",
            "\n",
            "           0       1.00      0.31      0.47        13\n",
            "           1       0.89      1.00      0.94        70\n",
            "\n",
            "    accuracy                           0.89        83\n",
            "   macro avg       0.94      0.65      0.71        83\n",
            "weighted avg       0.90      0.89      0.87        83\n",
            "\n"
          ]
        }
      ]
    },
    {
      "cell_type": "code",
      "source": [
        "df_reddit['date'] = pd.to_datetime(df_reddit['created_utc'], unit='s').dt.date\n",
        "daily_sentiment = df_reddit.groupby('date')['sentiment'].mean()\n"
      ],
      "metadata": {
        "id": "W_TBkjbbFx7e"
      },
      "execution_count": 13,
      "outputs": []
    },
    {
      "cell_type": "code",
      "source": [
        "from sklearn.model_selection import cross_val_score\n",
        "\n",
        "scores = cross_val_score(best_log_reg, X_train, y_train, cv=5)\n",
        "print(\"Cross-validation scores:\", scores)\n",
        "print(\"Average score:\", scores.mean())\n"
      ],
      "metadata": {
        "colab": {
          "base_uri": "https://localhost:8080/"
        },
        "id": "jpIrZZuNF1K7",
        "outputId": "5c86d62d-51e3-4f50-886f-973d1b4ba07a"
      },
      "execution_count": 14,
      "outputs": [
        {
          "output_type": "stream",
          "name": "stdout",
          "text": [
            "Cross-validation scores: [0.82051282 0.82051282 0.84210526 0.81578947 0.84210526]\n",
            "Average score: 0.8282051282051281\n"
          ]
        }
      ]
    },
    {
      "cell_type": "code",
      "source": [
        "plt.figure(figsize=(10, 5))\n",
        "plt.plot(daily_sentiment.index, daily_sentiment.values, label='Average Daily Sentiment')\n",
        "plt.xlabel('Date')\n",
        "plt.ylabel('Sentiment Polarity')\n",
        "plt.title('Sentiment Over Time')\n",
        "plt.legend()\n",
        "plt.show()\n"
      ],
      "metadata": {
        "colab": {
          "base_uri": "https://localhost:8080/",
          "height": 487
        },
        "id": "vDt9bjktF3TV",
        "outputId": "781435ef-e158-4ba9-b010-8f540c598e82"
      },
      "execution_count": 15,
      "outputs": [
        {
          "output_type": "display_data",
          "data": {
            "text/plain": [
              "<Figure size 1000x500 with 1 Axes>"
            ],
            "image/png": "[encoded data removed]"
          },
          "metadata": {}
        }
      ]
    },
    {
      "cell_type": "code",
      "source": [],
      "metadata": {
        "id": "pqtbKNKiF9NS"
      },
      "execution_count": null,
      "outputs": []
    }
  ]
}
